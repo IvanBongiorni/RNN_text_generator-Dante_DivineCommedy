{
  "nbformat": 4,
  "nbformat_minor": 0,
  "metadata": {
    "colab": {
      "name": "RNN_text_generator_00.ipynb",
      "provenance": [],
      "collapsed_sections": [],
      "authorship_tag": "ABX9TyOEZEYhXCzaOY4YC7IIdsvh"
    },
    "kernelspec": {
      "name": "python3",
      "display_name": "Python 3"
    },
    "accelerator": "GPU"
  },
  "cells": [
    {
      "cell_type": "markdown",
      "metadata": {
        "id": "8m8xB0z_hYbG",
        "colab_type": "text"
      },
      "source": [
        "# TensorFlow 2.0 Text generator on Dante Alighieri's Divine Comedy\n",
        "\n",
        "Author: **Ivan Bongiorni**, [LinkedIn profile](https://www.linkedin.com/in/ivan-bongiorni-b8a583164/)\n"
      ]
    },
    {
      "cell_type": "markdown",
      "metadata": {
        "id": "ncDUryHdqckI",
        "colab_type": "text"
      },
      "source": [
        "This Notebook contains a **text generator RNN** that was trained on the **Divina Commedia** (the *Divine Comedy*) by **Dante Alighieri**. This is a poem written at the beginning of the XII century. It's hard to explain what it represents for Italian culture: it's without any doubt the main pillar of our national literature, one of the building blocks of modern Italian language, and arguably the gratest poem ever. All modern representations of Hell, Purgatory and Heaven derive from this opera.\n",
        "\n",
        "It's structure is extremely interesting: each verse is composed of 11 syllables, and its rhymes follow an **A-B-A-B** structure. Lot of pattern to be learned! "
      ]
    },
    {
      "cell_type": "code",
      "metadata": {
        "id": "R8FnhxiWY_Y1",
        "colab_type": "code",
        "outputId": "948d53c3-e0b1-4d73-e526-dadd425092d9",
        "colab": {
          "base_uri": "https://localhost:8080/",
          "height": 70
        }
      },
      "source": [
        "import time\n",
        "import re\n",
        "\n",
        "import numpy as np\n",
        "import pandas as pd\n",
        "\n",
        "%tensorflow_version 2.x\n",
        "import tensorflow as tf\n",
        "print(tf.__version__)\n",
        "\n",
        "from matplotlib import pyplot as plt\n",
        "\n",
        "# Read file from Colab Notebook\n",
        "from google.colab import drive\n",
        "drive.mount('/content/drive')"
      ],
      "execution_count": 1,
      "outputs": [
        {
          "output_type": "stream",
          "text": [
            "TensorFlow 2.x selected.\n",
            "2.1.0-rc1\n",
            "Drive already mounted at /content/drive; to attempt to forcibly remount, call drive.mount(\"/content/drive\", force_remount=True).\n"
          ],
          "name": "stdout"
        }
      ]
    },
    {
      "cell_type": "code",
      "metadata": {
        "id": "V5YiWU0daYkT",
        "colab_type": "code",
        "colab": {}
      },
      "source": [
        "current_path = \" [...] /TF_2.0/NLP/text_generator/\"\n",
        "\n",
        "# Read the Divina Commedia\n",
        "with open(current_path + \"DivinaCommedia.txt\", 'r', encoding=\"utf8\") as file:\n",
        "    divina_commedia = file.read()\n",
        "\n",
        "# Replace rare characters\n",
        "divina_commedia = divina_commedia.replace(\"ä\", \"a\")\n",
        "divina_commedia = divina_commedia.replace(\"é\", \"è\")\n",
        "divina_commedia = divina_commedia.replace(\"ë\", \"è\")\n",
        "divina_commedia = divina_commedia.replace(\"Ë\", \"E\")\n",
        "divina_commedia = divina_commedia.replace(\"ï\", \"i\")\n",
        "divina_commedia = divina_commedia.replace(\"Ï\", \"I\")\n",
        "divina_commedia = divina_commedia.replace(\"ó\", \"ò\")\n",
        "divina_commedia = divina_commedia.replace(\"ö\", \"o\")\n",
        "divina_commedia = divina_commedia.replace(\"ü\", \"u\")\n",
        "\n",
        "divina_commedia = divina_commedia.replace(\"(\", \"-\")\n",
        "divina_commedia = divina_commedia.replace(\")\", \"-\")\n",
        "divina_commedia = divina_commedia.replace(\"[\", \"\")\n",
        "divina_commedia = divina_commedia.replace(\"]\", \"\")\n",
        "\n",
        "divina_commedia = re.sub(r'[0-9]+', '', divina_commedia)\n",
        "divina_commedia = divina_commedia.replace(\" \\n\", \"\\n\")"
      ],
      "execution_count": 0,
      "outputs": []
    },
    {
      "cell_type": "code",
      "metadata": {
        "id": "ILphRXIXaYrP",
        "colab_type": "code",
        "outputId": "108f777a-2f35-4b90-a086-42b326022d36",
        "colab": {
          "base_uri": "https://localhost:8080/",
          "height": 34
        }
      },
      "source": [
        "# Check lenght of text\n",
        "print(len(divina_commedia))"
      ],
      "execution_count": 3,
      "outputs": [
        {
          "output_type": "stream",
          "text": [
            "551697\n"
          ],
          "name": "stdout"
        }
      ]
    },
    {
      "cell_type": "markdown",
      "metadata": {
        "id": "uZw3-Joyhg5l",
        "colab_type": "text"
      },
      "source": [
        "I will now extract the set of unique characters, and create a dictionary for vectorization of text. In order to feed the text into a Neural Network, I must turn each character into a number."
      ]
    },
    {
      "cell_type": "code",
      "metadata": {
        "id": "KwvjeLGWAVE4",
        "colab_type": "code",
        "colab": {}
      },
      "source": [
        "# Store unique characters into a dict with numerical encoding\n",
        "unique_chars = list(set(divina_commedia))\n",
        "unique_chars.sort()  # to make sure you get the same encoding at each run\n",
        "\n",
        "# Store them in a dict, associated with a numerical index\n",
        "char2idx = { char[1]: char[0] for char in enumerate(unique_chars) }\n"
      ],
      "execution_count": 0,
      "outputs": []
    },
    {
      "cell_type": "code",
      "metadata": {
        "id": "tkXOJ3LGAVCF",
        "colab_type": "code",
        "outputId": "b020a397-eafb-4b39-9f76-1d361abd3fb1",
        "colab": {
          "base_uri": "https://localhost:8080/",
          "height": 34
        }
      },
      "source": [
        "print(len(char2idx))"
      ],
      "execution_count": 5,
      "outputs": [
        {
          "output_type": "stream",
          "text": [
            "63\n"
          ],
          "name": "stdout"
        }
      ]
    },
    {
      "cell_type": "code",
      "metadata": {
        "id": "2sieJxDhAU_V",
        "colab_type": "code",
        "outputId": "79310734-7f0f-4e6c-c773-258a5358ed9e",
        "colab": {
          "base_uri": "https://localhost:8080/",
          "height": 1000
        }
      },
      "source": [
        "char2idx"
      ],
      "execution_count": 6,
      "outputs": [
        {
          "output_type": "execute_result",
          "data": {
            "text/plain": [
              "{'\\n': 0,\n",
              " ' ': 1,\n",
              " '!': 2,\n",
              " '\"': 3,\n",
              " \"'\": 4,\n",
              " ',': 5,\n",
              " '-': 6,\n",
              " '.': 7,\n",
              " ':': 8,\n",
              " ';': 9,\n",
              " '?': 10,\n",
              " 'A': 11,\n",
              " 'B': 12,\n",
              " 'C': 13,\n",
              " 'D': 14,\n",
              " 'E': 15,\n",
              " 'F': 16,\n",
              " 'G': 17,\n",
              " 'H': 18,\n",
              " 'I': 19,\n",
              " 'L': 20,\n",
              " 'M': 21,\n",
              " 'N': 22,\n",
              " 'O': 23,\n",
              " 'P': 24,\n",
              " 'Q': 25,\n",
              " 'R': 26,\n",
              " 'S': 27,\n",
              " 'T': 28,\n",
              " 'U': 29,\n",
              " 'V': 30,\n",
              " 'X': 31,\n",
              " 'Z': 32,\n",
              " 'a': 33,\n",
              " 'b': 34,\n",
              " 'c': 35,\n",
              " 'd': 36,\n",
              " 'e': 37,\n",
              " 'f': 38,\n",
              " 'g': 39,\n",
              " 'h': 40,\n",
              " 'i': 41,\n",
              " 'j': 42,\n",
              " 'l': 43,\n",
              " 'm': 44,\n",
              " 'n': 45,\n",
              " 'o': 46,\n",
              " 'p': 47,\n",
              " 'q': 48,\n",
              " 'r': 49,\n",
              " 's': 50,\n",
              " 't': 51,\n",
              " 'u': 52,\n",
              " 'v': 53,\n",
              " 'x': 54,\n",
              " 'y': 55,\n",
              " 'z': 56,\n",
              " 'È': 57,\n",
              " 'à': 58,\n",
              " 'è': 59,\n",
              " 'ì': 60,\n",
              " 'ò': 61,\n",
              " 'ù': 62}"
            ]
          },
          "metadata": {
            "tags": []
          },
          "execution_count": 6
        }
      ]
    },
    {
      "cell_type": "markdown",
      "metadata": {
        "id": "G2H5G86HhyvE",
        "colab_type": "text"
      },
      "source": [
        "Once I have a dictionary that maps each characted with its respective numerical index, I can process the whole corpus."
      ]
    },
    {
      "cell_type": "code",
      "metadata": {
        "id": "vk_BqFK4AU9H",
        "colab_type": "code",
        "colab": {}
      },
      "source": [
        "def numerical_encoding(text, char_dict):\n",
        "    \"\"\" Text to list of chars, to np.array of numerical idx \"\"\"\n",
        "    chars_list = [ char for char in text ]\n",
        "    chars_list = [ char_dict[char] for char in chars_list ]\n",
        "    chars_list = np.array(chars_list)\n",
        "    return chars_list\n"
      ],
      "execution_count": 0,
      "outputs": []
    },
    {
      "cell_type": "code",
      "metadata": {
        "id": "r7JpYN9LAU7U",
        "colab_type": "code",
        "outputId": "79f714c0-a0a6-495f-e900-c39d3b329b77",
        "colab": {
          "base_uri": "https://localhost:8080/",
          "height": 105
        }
      },
      "source": [
        "# Let's see what the first line will look like\n",
        "print(\"{}\".format(divina_commedia[276:311]))\n",
        "print(\"\\nbecomes:\")\n",
        "print(numerical_encoding(divina_commedia[276:311], char2idx))"
      ],
      "execution_count": 8,
      "outputs": [
        {
          "output_type": "stream",
          "text": [
            "Nel mezzo del cammin di nostra vita\n",
            "\n",
            "becomes:\n",
            "[22 37 43  1 44 37 56 56 46  1 36 37 43  1 35 33 44 44 41 45  1 36 41  1\n",
            " 45 46 50 51 49 33  1 53 41 51 33]\n"
          ],
          "name": "stdout"
        }
      ]
    },
    {
      "cell_type": "markdown",
      "metadata": {
        "id": "HqALeTUmnl0X",
        "colab_type": "text"
      },
      "source": [
        "## RNN dataprep\n",
        "\n",
        "I need to generate a set of stacked input sequences. My goal is to train a Neural Network to find a mapping between an input sequence and an output sequence of equal length, in which each character is shifted left of one position.\n",
        "\n",
        "For example, the first verse:\n",
        "\n",
        "> Nel mezzo del cammin di nostra vita\n",
        "\n",
        "would be translated in a train sequence as:\n",
        "\n",
        "`Nel mezzo del cammin di nostra vit`\n",
        "\n",
        "be associated with the target sequence:\n",
        "\n",
        "`el mezzo del cammin di nostra vita`\n",
        "\n",
        "The following function is a preparatory step for that. More generally, given a sequence:\n",
        "\n",
        "```\n",
        "A B C D E F G H I\n",
        "```\n",
        "\n",
        "and assuming input sequences of length 5, it will generate a matrix like:\n",
        "\n",
        "```\n",
        "A B C D E\n",
        "B C D E F\n",
        "C D E F G\n",
        "D E F G H\n",
        "E F G H I\n",
        "```\n",
        "\n",
        "I will save that matrix as it is in .csv format, to use it to train the Language Generator later.\n",
        "The split between train and target sets will be as:\n",
        "\n",
        "```\n",
        " Train:           Target:\n",
        "                 \n",
        "A B C D E        B C D E F\n",
        "B C D E F        C D E F G\n",
        "C D E F G        D E F G H\n",
        "D E F G H        E F G H I\n",
        "                 \n",
        "```\n",
        "\n",
        "Train and target sets are fundamentally the same matrix, with the train having the last row removed, and the target set having the first removed."
      ]
    },
    {
      "cell_type": "code",
      "metadata": {
        "id": "yWcZzOJdG6X9",
        "colab_type": "code",
        "colab": {}
      },
      "source": [
        "# Apply it on the whole Comedy\n",
        "encoded_text = numerical_encoding(divina_commedia, char2idx)"
      ],
      "execution_count": 0,
      "outputs": []
    },
    {
      "cell_type": "code",
      "metadata": {
        "id": "t41gYByxAU4B",
        "colab_type": "code",
        "colab": {}
      },
      "source": [
        "def get_text_matrix(sequence, len_input):\n",
        "    \n",
        "    # create empty matrix\n",
        "    X = np.empty((len(sequence)-len_input, len_input))\n",
        "    \n",
        "    # fill each row/time window from input sequence\n",
        "    for i in range(X.shape[0]):\n",
        "        X[i,:] = sequence[i : i+len_input]\n",
        "        \n",
        "    return X"
      ],
      "execution_count": 0,
      "outputs": []
    },
    {
      "cell_type": "code",
      "metadata": {
        "id": "5eazAAQiAk0i",
        "colab_type": "code",
        "colab": {}
      },
      "source": [
        "text_matrix = get_text_matrix(encoded_text, 100)"
      ],
      "execution_count": 0,
      "outputs": []
    },
    {
      "cell_type": "code",
      "metadata": {
        "id": "KonviQjQAk40",
        "colab_type": "code",
        "outputId": "3d20f758-3088-4645-9aa3-3ee3d4f40823",
        "colab": {
          "base_uri": "https://localhost:8080/",
          "height": 34
        }
      },
      "source": [
        "print(text_matrix.shape)"
      ],
      "execution_count": 12,
      "outputs": [
        {
          "output_type": "stream",
          "text": [
            "(551597, 100)\n"
          ],
          "name": "stdout"
        }
      ]
    },
    {
      "cell_type": "code",
      "metadata": {
        "id": "BaVngDG7AkyU",
        "colab_type": "code",
        "outputId": "730a7be7-daf2-4eb7-f536-9e281cbc662f",
        "colab": {
          "base_uri": "https://localhost:8080/",
          "height": 336
        }
      },
      "source": [
        "print(\"100th train sequence:\\n\")\n",
        "print(text_matrix[ 100, : ])\n",
        "print(\"\\n\\n100th target sequence:\\n\")\n",
        "print(text_matrix[ 101, : ])"
      ],
      "execution_count": 13,
      "outputs": [
        {
          "output_type": "stream",
          "text": [
            "100th train sequence:\n",
            "\n",
            "[45. 37.  1. 37.  1. 47. 52. 45. 41. 44. 37. 45. 51. 41.  1. 36. 37.  4.\n",
            "  1. 53. 41. 56. 41.  1. 37.  1. 36. 37.  4.  1. 44. 37. 49. 41. 51. 41.\n",
            "  1. 37.  1. 47. 49. 37. 44. 41.  1. 36. 37.  1. 43. 37.  1. 53. 41. 49.\n",
            " 51. 62.  7.  1. 13. 46. 44. 41. 45. 35. 41. 33.  1. 41. 43.  1. 35. 33.\n",
            " 45. 51. 46.  1. 47. 49. 41. 44. 46.  1. 36. 37.  1. 43. 33.  1. 47. 49.\n",
            " 41. 44. 33.  1. 47. 33. 49. 51. 37.  1.]\n",
            "\n",
            "\n",
            "100th target sequence:\n",
            "\n",
            "[37.  1. 37.  1. 47. 52. 45. 41. 44. 37. 45. 51. 41.  1. 36. 37.  4.  1.\n",
            " 53. 41. 56. 41.  1. 37.  1. 36. 37.  4.  1. 44. 37. 49. 41. 51. 41.  1.\n",
            " 37.  1. 47. 49. 37. 44. 41.  1. 36. 37.  1. 43. 37.  1. 53. 41. 49. 51.\n",
            " 62.  7.  1. 13. 46. 44. 41. 45. 35. 41. 33.  1. 41. 43.  1. 35. 33. 45.\n",
            " 51. 46.  1. 47. 49. 41. 44. 46.  1. 36. 37.  1. 43. 33.  1. 47. 49. 41.\n",
            " 44. 33.  1. 47. 33. 49. 51. 37.  1. 43.]\n"
          ],
          "name": "stdout"
        }
      ]
    },
    {
      "cell_type": "markdown",
      "metadata": {
        "id": "hPjMSZOzh_60",
        "colab_type": "text"
      },
      "source": [
        "# Architecture\n",
        "\n",
        "At this point, I can specify the RNN architecture with all its hyperparameters. An `Embedding()` layer will first learn a representation of each character; the sequence of chracters embedding will then be fed into an `LSTM()` layer, that will extract information from their sequence; `Dense()` layers at the end will produce the next character prediction.\n",
        "\n",
        "The Network is structured to be fed with batches of data of fixed size."
      ]
    },
    {
      "cell_type": "code",
      "metadata": {
        "id": "rFZfbimYAkvk",
        "colab_type": "code",
        "colab": {}
      },
      "source": [
        "# size of vocabulary\n",
        "vocab_size = len(char2idx)\n",
        "\n",
        "# size of mini batches during training\n",
        "batch_size = 100\n",
        "\n",
        "# size of training subset at each epoch\n",
        "subset_size = batch_size * 100\n",
        "\n",
        "# vector size of char embeddings\n",
        "embedding_size = 250\n",
        "\n",
        "len_input = 1000   # 200\n",
        "\n",
        "hidden_size = 250  # for Dense() layers"
      ],
      "execution_count": 0,
      "outputs": []
    },
    {
      "cell_type": "code",
      "metadata": {
        "id": "A1JqO7rhAktC",
        "colab_type": "code",
        "colab": {}
      },
      "source": [
        "from tensorflow.keras.models import Sequential\n",
        "from tensorflow.keras.layers import Embedding, LSTM, Dense\n",
        "from tensorflow.keras.activations import elu, relu, softmax"
      ],
      "execution_count": 0,
      "outputs": []
    },
    {
      "cell_type": "code",
      "metadata": {
        "id": "mKysyBfpAtUS",
        "colab_type": "code",
        "outputId": "6d987cb1-40ee-4896-8b41-d52ae0cf70a2",
        "colab": {
          "base_uri": "https://localhost:8080/",
          "height": 301
        }
      },
      "source": [
        "RNN = Sequential([\n",
        "    Embedding(vocab_size, embedding_size,\n",
        "              batch_input_shape=(batch_size, None)),\n",
        "    \n",
        "    LSTM(len_input, return_sequences = True),\n",
        "    \n",
        "    Dense(hidden_size, activation = relu), \n",
        "    \n",
        "    Dense(vocab_size)\n",
        "])\n",
        "\n",
        "RNN.summary()"
      ],
      "execution_count": 16,
      "outputs": [
        {
          "output_type": "stream",
          "text": [
            "Model: \"sequential\"\n",
            "_________________________________________________________________\n",
            "Layer (type)                 Output Shape              Param #   \n",
            "=================================================================\n",
            "embedding (Embedding)        (100, None, 250)          15750     \n",
            "_________________________________________________________________\n",
            "lstm (LSTM)                  (100, None, 1000)         5004000   \n",
            "_________________________________________________________________\n",
            "dense (Dense)                (100, None, 250)          250250    \n",
            "_________________________________________________________________\n",
            "dense_1 (Dense)              (100, None, 63)           15813     \n",
            "=================================================================\n",
            "Total params: 5,285,813\n",
            "Trainable params: 5,285,813\n",
            "Non-trainable params: 0\n",
            "_________________________________________________________________\n"
          ],
          "name": "stdout"
        }
      ]
    },
    {
      "cell_type": "code",
      "metadata": {
        "id": "a9Tldq4qAtXr",
        "colab_type": "code",
        "colab": {}
      },
      "source": [
        "n_epochs = 100\n",
        "\n",
        "learning_rate = 0.0001\n",
        "optimizer = tf.keras.optimizers.Adam(learning_rate = learning_rate)"
      ],
      "execution_count": 0,
      "outputs": []
    },
    {
      "cell_type": "code",
      "metadata": {
        "id": "XUgGeC5ZAtbb",
        "colab_type": "code",
        "colab": {}
      },
      "source": [
        "# This is an Autograph function\n",
        "# its decorator makes it a TF op - i.e. much faster\n",
        "@tf.function\n",
        "def train_on_batch(x, y):\n",
        "    with tf.GradientTape() as tape:\n",
        "        current_loss = tf.reduce_mean(\n",
        "            tf.keras.losses.sparse_categorical_crossentropy(\n",
        "                y, RNN(x), from_logits = True))\n",
        "    gradients = tape.gradient(current_loss, RNN.trainable_variables)\n",
        "    optimizer.apply_gradients(zip(gradients, RNN.trainable_variables))\n",
        "    return current_loss"
      ],
      "execution_count": 0,
      "outputs": []
    },
    {
      "cell_type": "code",
      "metadata": {
        "id": "8-x5RxKrAtnR",
        "colab_type": "code",
        "outputId": "526b30d3-af50-4cc4-8356-7c22ea15c7b1",
        "colab": {
          "base_uri": "https://localhost:8080/",
          "height": 1000
        }
      },
      "source": [
        "loss_history = []\n",
        "\n",
        "for epoch in range(n_epochs):\n",
        "    start = time.time()\n",
        "    \n",
        "    # Take subsets of train and target\n",
        "    sample = np.random.randint(0, text_matrix.shape[0]-1, subset_size)\n",
        "    sample_train = text_matrix[ sample , : ]\n",
        "    sample_target = text_matrix[ sample+1 , : ]\n",
        "    \n",
        "    for iteration in range(sample_train.shape[0] // batch_size):\n",
        "        take = iteration * batch_size\n",
        "        x = sample_train[ take:take+batch_size , : ]\n",
        "        y = sample_target[ take:take+batch_size , : ]\n",
        "\n",
        "        current_loss = train_on_batch(x, y)\n",
        "        loss_history.append(current_loss)\n",
        "    \n",
        "    print(\"{}.  \\t  Loss: {}  \\t  Time: {}ss\".format(\n",
        "        epoch+1, current_loss.numpy(), round(time.time()-start, 2)))"
      ],
      "execution_count": 19,
      "outputs": [
        {
          "output_type": "stream",
          "text": [
            "1.  \t  Loss: 3.072500705718994  \t  Time: 14.92ss\n",
            "2.  \t  Loss: 2.957970142364502  \t  Time: 7.59ss\n",
            "3.  \t  Loss: 2.577200412750244  \t  Time: 7.58ss\n",
            "4.  \t  Loss: 2.415374517440796  \t  Time: 7.59ss\n",
            "5.  \t  Loss: 2.3381526470184326  \t  Time: 7.59ss\n",
            "6.  \t  Loss: 2.260857343673706  \t  Time: 7.58ss\n",
            "7.  \t  Loss: 2.2402889728546143  \t  Time: 7.58ss\n",
            "8.  \t  Loss: 2.1702616214752197  \t  Time: 7.59ss\n",
            "9.  \t  Loss: 2.137619733810425  \t  Time: 7.58ss\n",
            "10.  \t  Loss: 2.1122875213623047  \t  Time: 7.6ss\n",
            "11.  \t  Loss: 2.0589234828948975  \t  Time: 7.59ss\n",
            "12.  \t  Loss: 2.056528091430664  \t  Time: 7.59ss\n",
            "13.  \t  Loss: 2.027541399002075  \t  Time: 7.59ss\n",
            "14.  \t  Loss: 2.005847454071045  \t  Time: 7.59ss\n",
            "15.  \t  Loss: 2.0110795497894287  \t  Time: 7.63ss\n",
            "16.  \t  Loss: 1.9466191530227661  \t  Time: 7.58ss\n",
            "17.  \t  Loss: 1.9405425786972046  \t  Time: 7.58ss\n",
            "18.  \t  Loss: 1.9408313035964966  \t  Time: 7.57ss\n",
            "19.  \t  Loss: 1.9250353574752808  \t  Time: 7.58ss\n",
            "20.  \t  Loss: 1.8843433856964111  \t  Time: 7.57ss\n",
            "21.  \t  Loss: 1.8922566175460815  \t  Time: 7.56ss\n",
            "22.  \t  Loss: 1.9076796770095825  \t  Time: 7.59ss\n",
            "23.  \t  Loss: 1.8852293491363525  \t  Time: 7.57ss\n",
            "24.  \t  Loss: 1.8748210668563843  \t  Time: 7.58ss\n",
            "25.  \t  Loss: 1.8662488460540771  \t  Time: 7.56ss\n",
            "26.  \t  Loss: 1.7994751930236816  \t  Time: 7.58ss\n",
            "27.  \t  Loss: 1.8747007846832275  \t  Time: 7.6ss\n",
            "28.  \t  Loss: 1.823426604270935  \t  Time: 7.58ss\n",
            "29.  \t  Loss: 1.8228120803833008  \t  Time: 7.57ss\n",
            "30.  \t  Loss: 1.789873480796814  \t  Time: 7.58ss\n",
            "31.  \t  Loss: 1.7624784708023071  \t  Time: 7.57ss\n",
            "32.  \t  Loss: 1.7963734865188599  \t  Time: 7.57ss\n",
            "33.  \t  Loss: 1.7762773036956787  \t  Time: 7.56ss\n",
            "34.  \t  Loss: 1.7459098100662231  \t  Time: 7.6ss\n",
            "35.  \t  Loss: 1.75569486618042  \t  Time: 7.59ss\n",
            "36.  \t  Loss: 1.7706636190414429  \t  Time: 7.58ss\n",
            "37.  \t  Loss: 1.7370904684066772  \t  Time: 7.57ss\n",
            "38.  \t  Loss: 1.7198837995529175  \t  Time: 7.57ss\n",
            "39.  \t  Loss: 1.7358664274215698  \t  Time: 7.59ss\n",
            "40.  \t  Loss: 1.6769226789474487  \t  Time: 7.57ss\n",
            "41.  \t  Loss: 1.7079578638076782  \t  Time: 7.57ss\n",
            "42.  \t  Loss: 1.7010931968688965  \t  Time: 7.57ss\n",
            "43.  \t  Loss: 1.7068103551864624  \t  Time: 7.57ss\n",
            "44.  \t  Loss: 1.6513859033584595  \t  Time: 7.57ss\n",
            "45.  \t  Loss: 1.687230110168457  \t  Time: 7.57ss\n",
            "46.  \t  Loss: 1.6650090217590332  \t  Time: 7.58ss\n",
            "47.  \t  Loss: 1.6460039615631104  \t  Time: 7.6ss\n",
            "48.  \t  Loss: 1.614156723022461  \t  Time: 7.6ss\n",
            "49.  \t  Loss: 1.607173204421997  \t  Time: 7.58ss\n",
            "50.  \t  Loss: 1.625852346420288  \t  Time: 7.57ss\n",
            "51.  \t  Loss: 1.6108134984970093  \t  Time: 7.57ss\n",
            "52.  \t  Loss: 1.6237413883209229  \t  Time: 7.57ss\n",
            "53.  \t  Loss: 1.5856447219848633  \t  Time: 7.58ss\n",
            "54.  \t  Loss: 1.616779088973999  \t  Time: 7.58ss\n",
            "55.  \t  Loss: 1.5694152116775513  \t  Time: 7.6ss\n",
            "56.  \t  Loss: 1.5844537019729614  \t  Time: 7.61ss\n",
            "57.  \t  Loss: 1.5838656425476074  \t  Time: 7.6ss\n",
            "58.  \t  Loss: 1.5657349824905396  \t  Time: 7.59ss\n",
            "59.  \t  Loss: 1.5648351907730103  \t  Time: 7.57ss\n",
            "60.  \t  Loss: 1.5778411626815796  \t  Time: 7.57ss\n",
            "61.  \t  Loss: 1.5735400915145874  \t  Time: 7.58ss\n",
            "62.  \t  Loss: 1.5776091814041138  \t  Time: 7.59ss\n",
            "63.  \t  Loss: 1.5240793228149414  \t  Time: 7.58ss\n",
            "64.  \t  Loss: 1.527056097984314  \t  Time: 7.58ss\n",
            "65.  \t  Loss: 1.5307105779647827  \t  Time: 7.59ss\n",
            "66.  \t  Loss: 1.5254395008087158  \t  Time: 7.59ss\n",
            "67.  \t  Loss: 1.5316236019134521  \t  Time: 7.6ss\n",
            "68.  \t  Loss: 1.517667531967163  \t  Time: 7.57ss\n",
            "69.  \t  Loss: 1.5019526481628418  \t  Time: 7.58ss\n",
            "70.  \t  Loss: 1.4704419374465942  \t  Time: 7.57ss\n",
            "71.  \t  Loss: 1.489258885383606  \t  Time: 7.58ss\n",
            "72.  \t  Loss: 1.5058043003082275  \t  Time: 7.57ss\n",
            "73.  \t  Loss: 1.5096497535705566  \t  Time: 7.56ss\n",
            "74.  \t  Loss: 1.4681944847106934  \t  Time: 7.59ss\n",
            "75.  \t  Loss: 1.4726403951644897  \t  Time: 7.57ss\n",
            "76.  \t  Loss: 1.4658737182617188  \t  Time: 7.56ss\n",
            "77.  \t  Loss: 1.4032140970230103  \t  Time: 7.57ss\n",
            "78.  \t  Loss: 1.4850512742996216  \t  Time: 7.56ss\n",
            "79.  \t  Loss: 1.4615461826324463  \t  Time: 7.58ss\n",
            "80.  \t  Loss: 1.4805454015731812  \t  Time: 7.57ss\n",
            "81.  \t  Loss: 1.4137877225875854  \t  Time: 7.57ss\n",
            "82.  \t  Loss: 1.4438412189483643  \t  Time: 7.59ss\n",
            "83.  \t  Loss: 1.450463056564331  \t  Time: 7.56ss\n",
            "84.  \t  Loss: 1.4167364835739136  \t  Time: 7.59ss\n",
            "85.  \t  Loss: 1.4113616943359375  \t  Time: 7.57ss\n",
            "86.  \t  Loss: 1.407659649848938  \t  Time: 7.57ss\n",
            "87.  \t  Loss: 1.4095017910003662  \t  Time: 7.57ss\n",
            "88.  \t  Loss: 1.3954694271087646  \t  Time: 7.57ss\n",
            "89.  \t  Loss: 1.3892732858657837  \t  Time: 7.56ss\n",
            "90.  \t  Loss: 1.4305318593978882  \t  Time: 7.57ss\n",
            "91.  \t  Loss: 1.3660508394241333  \t  Time: 7.57ss\n",
            "92.  \t  Loss: 1.4043421745300293  \t  Time: 7.56ss\n",
            "93.  \t  Loss: 1.3494398593902588  \t  Time: 7.57ss\n",
            "94.  \t  Loss: 1.3862204551696777  \t  Time: 7.57ss\n",
            "95.  \t  Loss: 1.3671904802322388  \t  Time: 7.58ss\n",
            "96.  \t  Loss: 1.360722541809082  \t  Time: 7.59ss\n",
            "97.  \t  Loss: 1.3654136657714844  \t  Time: 7.61ss\n",
            "98.  \t  Loss: 1.3310920000076294  \t  Time: 7.57ss\n",
            "99.  \t  Loss: 1.3655935525894165  \t  Time: 7.55ss\n",
            "100.  \t  Loss: 1.348952293395996  \t  Time: 7.57ss\n"
          ],
          "name": "stdout"
        }
      ]
    },
    {
      "cell_type": "code",
      "metadata": {
        "id": "R6uAhmV2Atth",
        "colab_type": "code",
        "outputId": "407b71d5-18bf-49e9-ec14-1ecf8def79b4",
        "colab": {
          "base_uri": "https://localhost:8080/",
          "height": 281
        }
      },
      "source": [
        "plt.plot(loss_history)\n",
        "plt.title(\"Training Loss\")\n",
        "plt.show()"
      ],
      "execution_count": 20,
      "outputs": [
        {
          "output_type": "display_data",
          "data": {
            "image/png": "[encoded data removed]",
            "text/plain": [
              "<Figure size 432x288 with 1 Axes>"
            ]
          },
          "metadata": {
            "tags": []
          }
        }
      ]
    },
    {
      "cell_type": "code",
      "metadata": {
        "id": "FCsDapUTBBrE",
        "colab_type": "code",
        "colab": {}
      },
      "source": [
        "RNN.save(current_path + \"models/text_generator_RNN_00.h5\")"
      ],
      "execution_count": 0,
      "outputs": []
    },
    {
      "cell_type": "markdown",
      "metadata": {
        "id": "yrMdonRckAWB",
        "colab_type": "text"
      },
      "source": [
        "# Text Generation\n",
        "\n",
        "At this point, let's check how the model generates text. In order to do it, I must make some changes to my RNN architecture above.\n",
        "\n",
        "First, I must change the fixed batch size. After training, I want to feed just one sentence into my Network to make it continue the character sequence. I will feed a string into the model, make it predict the next character, update the input sequence, and repeat the process until a long generated text is obtained. Because of this, the succession of input sequences is now different from training session, in which portions of text were sampled randomly. I now have to set `stateufl = True` in the `LSTM()` layer, so that each LSTM cell will keep in memory the internal state from the previous sequence. With this I hope the model will better remember sequential information while generating text.\n",
        "\n",
        "I will instantiate a new `generator` RNN with these new features, and transfer the trained weights of my `RNN` into it."
      ]
    },
    {
      "cell_type": "code",
      "metadata": {
        "id": "69aV7FGVAtxY",
        "colab_type": "code",
        "outputId": "87c106a7-f0cf-4bf4-8507-13551f88d290",
        "colab": {
          "base_uri": "https://localhost:8080/",
          "height": 301
        }
      },
      "source": [
        "generator = Sequential([\n",
        "    Embedding(vocab_size, embedding_size,\n",
        "              batch_input_shape=(1, None)),\n",
        "    \n",
        "    LSTM(len_input, return_sequences = True, stateful=True),\n",
        "    \n",
        "    Dense(hidden_size, activation = relu), \n",
        "    \n",
        "    Dense(vocab_size)\n",
        "])\n",
        "\n",
        "generator.summary()"
      ],
      "execution_count": 22,
      "outputs": [
        {
          "output_type": "stream",
          "text": [
            "Model: \"sequential_1\"\n",
            "_________________________________________________________________\n",
            "Layer (type)                 Output Shape              Param #   \n",
            "=================================================================\n",
            "embedding_1 (Embedding)      (1, None, 250)            15750     \n",
            "_________________________________________________________________\n",
            "lstm_1 (LSTM)                (1, None, 1000)           5004000   \n",
            "_________________________________________________________________\n",
            "dense_2 (Dense)              (1, None, 250)            250250    \n",
            "_________________________________________________________________\n",
            "dense_3 (Dense)              (1, None, 63)             15813     \n",
            "=================================================================\n",
            "Total params: 5,285,813\n",
            "Trainable params: 5,285,813\n",
            "Non-trainable params: 0\n",
            "_________________________________________________________________\n"
          ],
          "name": "stdout"
        }
      ]
    },
    {
      "cell_type": "code",
      "metadata": {
        "id": "whB1azhVAtrp",
        "colab_type": "code",
        "colab": {}
      },
      "source": [
        "# Import trained weights from RNN to generator\n",
        "generator.set_weights(RNN.get_weights())"
      ],
      "execution_count": 0,
      "outputs": []
    },
    {
      "cell_type": "code",
      "metadata": {
        "id": "vE2hYSqAAtkn",
        "colab_type": "code",
        "colab": {}
      },
      "source": [
        "def generate_text(start_string, num_generate = 1000, temperature = 1.0):\n",
        "    \n",
        "    # Vectorize input string\n",
        "    input_eval = [char2idx[s] for s in start_string]  \n",
        "    input_eval = tf.expand_dims(input_eval, 0)\n",
        "    \n",
        "    text_generated = [] # List to append predicted chars \n",
        "    \n",
        "    idx2char = { v: k for k, v in char2idx.items() }  # invert char-index mapping\n",
        "    \n",
        "    generator.reset_states()\n",
        "    \n",
        "    for i in range(num_generate):\n",
        "        predictions = generator(input_eval)\n",
        "        predictions = tf.squeeze(predictions, 0)\n",
        "        \n",
        "        # sample next char based on distribution and temperature\n",
        "        predictions = predictions / temperature\n",
        "        predicted_id = tf.random.categorical(predictions, num_samples=1)[-1,0].numpy()\n",
        "        \n",
        "        input_eval = tf.expand_dims([predicted_id], 0)\n",
        "\n",
        "        text_generated.append(idx2char[predicted_id])\n",
        "        \n",
        "    return (start_string + ''.join(text_generated))\n"
      ],
      "execution_count": 0,
      "outputs": []
    },
    {
      "cell_type": "markdown",
      "metadata": {
        "id": "2hBCF5YrqBtG",
        "colab_type": "text"
      },
      "source": [
        "(This function is based on [this tutorial](https://www.tensorflow.org/tutorials/text/text_generation).)"
      ]
    },
    {
      "cell_type": "code",
      "metadata": {
        "id": "4_NWeo1fAtiC",
        "colab_type": "code",
        "outputId": "b41dd336-8c12-4b44-d889-0a7de1c97af7",
        "colab": {
          "base_uri": "https://localhost:8080/",
          "height": 1000
        }
      },
      "source": [
        "# Let's feed the first lines:\n",
        "start_string = \"\"\"\n",
        "Nel mezzo del cammin di nostra vita\n",
        "mi ritrovai per una selva oscura,\n",
        "chè la diritta via era smarrita.\n",
        "\n",
        "\"\"\"\n",
        "\n",
        "for t in [0.1, 0.5, 1.0, 1.5, 2]:\n",
        "    print(\"####### TEXT GENERATION - temperature = {}\\n\".format(t))\n",
        "    print(generate_text(start_string = start_string, num_generate = 1000, temperature = 1.0))\n",
        "    print(\"\\n\\n\\n\")"
      ],
      "execution_count": 25,
      "outputs": [
        {
          "output_type": "stream",
          "text": [
            "####### TEXT GENERATION - temperature = 0.1\n",
            "\n",
            "\n",
            "Nel mezzo del cammin di nostra vita\n",
            "mi ritrovai per una selva oscura,\n",
            "chè la diritta via era smarrita.\n",
            "\n",
            "E fui dentro li palmi in su lo diso,\n",
            "e più di senti a la tigurar lormi,\n",
            "puosi e perde, scendero posa è ragge,\n",
            "di settare in foce lo dispettorio:\n",
            "\n",
            "\"se buatti fanti mal vita ricorse\n",
            "del tul, sani, 'de da nostrin molte\n",
            "che giattimenza, nona personazise;\n",
            "crovente Perrai pieghi e dicerno lascio,\n",
            "\n",
            "e la seco del condier da sè spirti;\n",
            "poi rimasesti 'ntender'obbi frati,\n",
            "sanza medesse, da sapir più segue.\n",
            "\n",
            "Oh su per dal mondo è disse: \"E come il nove,\n",
            "nel mi ragga da Parla una uscisci\n",
            "dove s'appossar riguardando vidi,\n",
            "onde piante paia\", mi disse, \"pertegno\n",
            "regnida qui tolvede avea bena\".\n",
            "\n",
            "Animmi ciò ud'amici acceroperi,\n",
            "se non la templa\".\n",
            "E quell'anime che tu diudo:\n",
            "voglia vòlto assai a la gente reva.\n",
            "\n",
            "Ciò precedean perve in unsi scarria,\n",
            "per che gramar precità? Fatti al cui l'otto,\n",
            "villa qua noi e un viso da contalla\n",
            "stesti e centrustalmente sì, perchè parlae?\".\n",
            "\n",
            "Sì cominciai coi bigliullo appresso, come,\n",
            "per si scuserbiarar che non paregno,\n",
            "che piace, duole, avvegna cui arriva\n",
            "dì tra 'l cielo,\n",
            "\n",
            "\n",
            "\n",
            "\n",
            "####### TEXT GENERATION - temperature = 0.5\n",
            "\n",
            "\n",
            "Nel mezzo del cammin di nostra vita\n",
            "mi ritrovai per una selva oscura,\n",
            "chè la diritta via era smarrita.\n",
            "\n",
            "E me ricoffaccio, com'esser possente\n",
            "di letto mi, e gradolar fur c' ha miseri,\n",
            "ch'io dicea, mossi mosser tempo il piede\".\n",
            "\n",
            "Come di qua tuffa: egne declati fui,\n",
            "là mi e disdetti se per le gorine,\n",
            "se bene che posson convenne lui.\n",
            "\n",
            "Con menti persungei o vigliar divini?\n",
            "l'un se' sedei a la vive e latdar del cerci,\n",
            "per lui si raddore a l'altra pressuma\n",
            "la brieta che hai non hanno circavi.\n",
            "\n",
            "Ma poi faggin quei che notte amore,\n",
            "appresso 'l giudo: \"A me care drizzanza,\n",
            "che si conveggea con un letto disto?'.\n",
            "\n",
            "Ed egne a' maeti; e questi sgurti\n",
            "ordenni mani amagion ch'a sordeva\n",
            "io e qual Fiosenti lio dol fiatorno,\n",
            "segria la sua concero ebbe acduse;\n",
            "e l'uno e loca il disio mi ricorda,\n",
            "\n",
            "nè vei da le poco, ancun sette forte,\n",
            "che, come tre, sangue due nomisar che,\n",
            "contrammo ha pensaia sarà sù divolse,\n",
            "\n",
            "tempo chi 'n su la terra si fodile\n",
            "conìte a peccato d'ogna ingegno volte,\n",
            "quando il suo del dritto vonte male gente.\n",
            "\n",
            "Quand'io nel mio corsavo; e quei gravaco\n",
            "di sè di mostro discingelli e atto\n",
            "come suo\n",
            "\n",
            "\n",
            "\n",
            "\n",
            "####### TEXT GENERATION - temperature = 1.0\n",
            "\n",
            "\n",
            "Nel mezzo del cammin di nostra vita\n",
            "mi ritrovai per una selva oscura,\n",
            "chè la diritta via era smarrita.\n",
            "\n",
            "Vedi mosse rimoe a quel de' piedi;\n",
            "non è concue; volginiò, perchè 'l mio maestro\n",
            "vassisi lubili albalar trattava.\n",
            "\n",
            "Prima che lì già m'esta venea infiolta\n",
            "stialmo partito se giusta e civi\n",
            "che richeramma Paria, ogne gran forte;\n",
            "ma qual è vapore, sì come suo chioto,\n",
            "\n",
            "così ti trevato in che li occhi rammette\n",
            "in alto grazia di Dio esi si spelta;\n",
            "tutto che va così con li valdanti\n",
            "che come fia cotanto rimasero.\n",
            "\n",
            "Era nostra si pade al vasar mirando,\n",
            "in lam, da pria, se, che m'apprende\n",
            "che più cadai co' cuole e di coloro.\n",
            "\n",
            "Ma perchè costui calendo in su la fra\n",
            "d'ella verrani, che non si tristallo\n",
            "el dicer: \"Che 'l ciel che vedea velace\n",
            "vinta va i darchi, e più non sosteggio\".\n",
            "\n",
            "\"O drizzati, fumitando, suoi panni\n",
            "cominciare: \"Voi nulla giù sì pira,\n",
            "non vista zai come non coro riso\n",
            "averse del, sol, che tu se' fu ardi;\n",
            "\n",
            "e se si vostri men viver coro;\n",
            "l'umano mi tesse a quel che sotto\n",
            "da sè porgitin Tabille vermita,\n",
            "di ciasti d'i miracci m'eran maiachi\".\n",
            "\n",
            "Poi ci votra le parole, malignarri,\n",
            "rappiril\n",
            "\n",
            "\n",
            "\n",
            "\n",
            "####### TEXT GENERATION - temperature = 1.5\n",
            "\n",
            "\n",
            "Nel mezzo del cammin di nostra vita\n",
            "mi ritrovai per una selva oscura,\n",
            "chè la diritta via era smarrita.\n",
            "\n",
            "Lo duca che più sù con avoppa,\n",
            "ch'i' non ravalli ogne sotto morse;\n",
            "\n",
            "nè scescosser non facea sì distese\n",
            "di nostra vasi, e poi e però e ria\n",
            "che corresti volti a li occhi fati queste,\n",
            "bianche' mi a cercar sanz'altrumero breso.\n",
            "\n",
            "Non dispiardi di balga fui senzi sozzo,\n",
            "che è pur come già sen ha ci si foco,\n",
            "lì s'antramente, predòn che rattalle\n",
            "da quei e lea le ciel deggiosi un sotto.\n",
            "\n",
            "\".\n",
            "\n",
            "Verta quelli avegne si ricerda\n",
            "di veri legge spazion poco del,\n",
            "quando sè mi ch'io etando fossi 'l nostro;\n",
            "chè quelli addoro accotti li occhi tosto!\n",
            "\n",
            "Vedi che l'uminal che nel come\n",
            "sidimo apirtà chè qui, mi divessi\n",
            "con essure, io poi vi ingenna impreglio\n",
            "de l'altruile di terzo e terra dime.\n",
            "\n",
            "E io mi parti da Caporadice,\n",
            "che mi parrava, accurandate affetto\n",
            "forte i primi li biammugidò inver' lo guardo\n",
            "come vertè quello argomenta, il brade\n",
            "dove s'attorsi non fusse iltrimenti.\n",
            "\n",
            "E un erano ad esse in creatura\n",
            "lasciò dà l'invilla qual di regi!\n",
            "a, cantando a lui si sonta e non dovesti:\n",
            "mi piave di veresseri due rig\n",
            "\n",
            "\n",
            "\n",
            "\n",
            "####### TEXT GENERATION - temperature = 2\n",
            "\n",
            "\n",
            "Nel mezzo del cammin di nostra vita\n",
            "mi ritrovai per una selva oscura,\n",
            "chè la diritta via era smarrita.\n",
            "\n",
            "Quindi si provegna, vista, da la calle\n",
            "di Vinon che tre corce d'esta e 'l geli.\n",
            "\n",
            "O come fracciali, più commando\n",
            "conciuto di pensare o mertava,\n",
            "per gradi di venire, o de la Scorsa\n",
            "del gino ancor che nuvi' son questi chiari,\n",
            "e far calando, e io cadder giuncipi,\n",
            "pria che sè come in te pianer giorno\".\n",
            "\n",
            "E io e potiti disse: \"Frozia,\n",
            "e come fece l'omiglio di tanta?\".\n",
            "\n",
            "Ed ilmi el, converebile\n",
            "lor parli de Dio, appresi lasciuti,\n",
            "boscia quanto la gentù che fassi scorta\n",
            "da sua perstute atarve, e serò volto\".\n",
            "Com'io nel sue spene e m'egel seguita\n",
            "per tutto lor cabi che a tre ciel venti\".\n",
            "\n",
            "Vite stui affaticasi o Terravi,\n",
            "de le sua boggia con io, e dissi me';\n",
            "o destro parlo storneso accidere,\n",
            "faminata dices, che li occhi vieni:\n",
            "per che, sì mi parvere averbali sauri.\n",
            "\n",
            "Lo spirato che mai ne consusciale,\n",
            "e i drugi tiammandi così fardi\".\n",
            "\n",
            "Così si sieva nòmin che meno,\n",
            "che è che s'arscusa da ciel gravigna\n",
            "vio si cima, maestro il grido posso,\n",
            "se tre tre grado verili a Dander lei,\n",
            "e al qual si converrai n\n",
            "\n",
            "\n",
            "\n",
            "\n"
          ],
          "name": "stdout"
        }
      ]
    },
    {
      "cell_type": "markdown",
      "metadata": {
        "id": "K8KlRGTqmGBS",
        "colab_type": "text"
      },
      "source": [
        "The best generation is, IMHO, the one with `temperature = 1.5`. The sentences of course do not make sense, but it's amazing that such a simple model could achieve similar results, and generate absolutely Dante-esque text with just ~40 minutes of GPU training."
      ]
    },
    {
      "cell_type": "markdown",
      "metadata": {
        "id": "ZtB2gvhimUEs",
        "colab_type": "text"
      },
      "source": [
        "Many things could be done at this point:\n",
        "\n",
        "\n",
        "\n",
        "*   Try fancier architectures, such as seq2seq. (I must say though that stacked RNNs didn't provide better results during prototyping.)\n",
        "*   Try Attention models.\n",
        "*   Longer training.\n",
        "*   Adversarial training.\n",
        "\n",
        "I'll try a lot of these techniques, alone and combined. My goal is to make a model that can learn the amazing structure of syllables and rhymes of the whole Comedy.\n",
        "\n"
      ]
    },
    {
      "cell_type": "markdown",
      "metadata": {
        "id": "zbXuy2OopudL",
        "colab_type": "text"
      },
      "source": [
        "### Sources\n",
        "\n",
        "The main source I used to learn to implement an RNN text generator is [this tutorial on the official TensorFlow website](https://www.tensorflow.org/tutorials/text/text_generation)."
      ]
    }
  ]
}